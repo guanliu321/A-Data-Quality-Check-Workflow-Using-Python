{
 "cells": [
  {
   "cell_type": "markdown",
   "metadata": {},
   "source": [
    "# Using DataQuality Library\n",
    "This demo shows the way to use the dataQuality library."
   ]
  },
  {
   "cell_type": "code",
   "execution_count": 1,
   "metadata": {},
   "outputs": [
    {
     "data": {
      "text/html": [
       "<div>\n",
       "<style scoped>\n",
       "    .dataframe tbody tr th:only-of-type {\n",
       "        vertical-align: middle;\n",
       "    }\n",
       "\n",
       "    .dataframe tbody tr th {\n",
       "        vertical-align: top;\n",
       "    }\n",
       "\n",
       "    .dataframe thead th {\n",
       "        text-align: right;\n",
       "    }\n",
       "</style>\n",
       "<table border=\"1\" class=\"dataframe\">\n",
       "  <thead>\n",
       "    <tr style=\"text-align: right;\">\n",
       "      <th></th>\n",
       "      <th>name</th>\n",
       "      <th>job</th>\n",
       "      <th>sex</th>\n",
       "      <th>age</th>\n",
       "      <th>salary</th>\n",
       "      <th>project</th>\n",
       "      <th>email</th>\n",
       "    </tr>\n",
       "  </thead>\n",
       "  <tbody>\n",
       "    <tr>\n",
       "      <th>0</th>\n",
       "      <td>Inés</td>\n",
       "      <td>Front Developer</td>\n",
       "      <td>F</td>\n",
       "      <td>35</td>\n",
       "      <td>72000</td>\n",
       "      <td>Project B</td>\n",
       "      <td>Maritza@domain.com</td>\n",
       "    </tr>\n",
       "    <tr>\n",
       "      <th>1</th>\n",
       "      <td>Toño</td>\n",
       "      <td>Software Developer</td>\n",
       "      <td>M</td>\n",
       "      <td>33</td>\n",
       "      <td>72000</td>\n",
       "      <td>Project A</td>\n",
       "      <td>Deividomain.com</td>\n",
       "    </tr>\n",
       "    <tr>\n",
       "      <th>2</th>\n",
       "      <td>Carmiña</td>\n",
       "      <td>Software Developer</td>\n",
       "      <td>M</td>\n",
       "      <td>27</td>\n",
       "      <td>72000</td>\n",
       "      <td>Project B</td>\n",
       "      <td>Manuela@domain.com</td>\n",
       "    </tr>\n",
       "    <tr>\n",
       "      <th>3</th>\n",
       "      <td>Antony</td>\n",
       "      <td>Software Developer</td>\n",
       "      <td>M</td>\n",
       "      <td>24</td>\n",
       "      <td>72000</td>\n",
       "      <td>Project A</td>\n",
       "      <td>Antony@domain.com</td>\n",
       "    </tr>\n",
       "    <tr>\n",
       "      <th>4</th>\n",
       "      <td>Martha</td>\n",
       "      <td>Front Developer</td>\n",
       "      <td>F</td>\n",
       "      <td>30</td>\n",
       "      <td>74000</td>\n",
       "      <td>Project A</td>\n",
       "      <td>Martha@domain.com</td>\n",
       "    </tr>\n",
       "  </tbody>\n",
       "</table>\n",
       "</div>"
      ],
      "text/plain": [
       "      name                 job sex age salary    project               email\n",
       "0     Inés     Front Developer   F  35  72000  Project B  Maritza@domain.com\n",
       "1     Toño  Software Developer   M  33  72000  Project A     Deividomain.com\n",
       "2  Carmiña  Software Developer   M  27  72000  Project B  Manuela@domain.com\n",
       "3   Antony  Software Developer   M  24  72000  Project A   Antony@domain.com\n",
       "4   Martha     Front Developer   F  30  74000  Project A   Martha@domain.com"
      ]
     },
     "execution_count": 1,
     "metadata": {},
     "output_type": "execute_result"
    }
   ],
   "source": [
    "# Reading file using Pandas\n",
    "import pandas as pd\n",
    "\n",
    "encoding = 'iso-8859-1'\n",
    "\n",
    "# File to be analyzed\n",
    "people = pd.read_csv('people.csv',\n",
    "            delimiter = ';',\n",
    "            encoding = encoding)\n",
    "people.head(5)"
   ]
  },
  {
   "cell_type": "code",
   "execution_count": 2,
   "metadata": {},
   "outputs": [
    {
     "name": "stdout",
     "output_type": "stream",
     "text": [
      "<class 'pandas.core.frame.DataFrame'>\n",
      "RangeIndex: 168 entries, 0 to 167\n",
      "Data columns (total 7 columns):\n",
      "name       168 non-null object\n",
      "job        167 non-null object\n",
      "sex        168 non-null object\n",
      "age        167 non-null object\n",
      "salary     168 non-null object\n",
      "project    165 non-null object\n",
      "email      164 non-null object\n",
      "dtypes: object(7)\n",
      "memory usage: 9.3+ KB\n"
     ]
    }
   ],
   "source": [
    "# Info about people file\n",
    "people.info()"
   ]
  },
  {
   "cell_type": "markdown",
   "metadata": {},
   "source": [
    "# Importing library\n",
    "Data quality library receives three parameters:\n",
    "1. File to be analized\n",
    "2. delimiter\n",
    "3. a boolean identifier to retrieving records that do not comply with the rule (False) or records that do comply with the rule (True).\n",
    "\n",
    "For this demo we are going to check for bad records."
   ]
  },
  {
   "cell_type": "code",
   "execution_count": 3,
   "metadata": {},
   "outputs": [],
   "source": [
    "import Data_Quality as DQ\n",
    "\n",
    "# Start data quality rules \n",
    "dataWork = DQ.Rules('people.csv', \n",
    "                    ';', \n",
    "                    False) # False for retrieving bad registers only"
   ]
  },
  {
   "cell_type": "markdown",
   "metadata": {},
   "source": [
    "# Rule for checking specific words\n",
    "This rules checks for specific words on records on certain column. In this case the rule returns all records with not \"Intern\" word."
   ]
  },
  {
   "cell_type": "code",
   "execution_count": 4,
   "metadata": {},
   "outputs": [
    {
     "name": "stdout",
     "output_type": "stream",
     "text": [
      "   index     name                 job sex age salary    project  \\\n",
      "0      0     Inés     Front Developer   F  35  72000  Project B   \n",
      "1      1     Toño  Software Developer   M  33  72000  Project A   \n",
      "2      2  Carmiña  Software Developer   M  27  72000  Project B   \n",
      "3      3   Antony  Software Developer   M  24  72000  Project A   \n",
      "4      4   Martha     Front Developer   F  30  74000  Project A   \n",
      "\n",
      "                email  \n",
      "0  Maritza@domain.com  \n",
      "1     Deividomain.com  \n",
      "2  Manuela@domain.com  \n",
      "3   Antony@domain.com  \n",
      "4   Martha@domain.com  \n"
     ]
    }
   ],
   "source": [
    "print(dataWork.checkContains('job', 'Intern').head())\n"
   ]
  },
  {
   "cell_type": "markdown",
   "metadata": {},
   "source": [
    "# Rule for checking length\n",
    "This rules checks for length of records on certain column. In this case the rule returns all records with more than 12 characters."
   ]
  },
  {
   "cell_type": "code",
   "execution_count": 5,
   "metadata": {},
   "outputs": [
    {
     "name": "stdout",
     "output_type": "stream",
     "text": [
      "   index     name                 job sex age salary    project  \\\n",
      "0      0     Inés     Front Developer   F  35  72000  Project B   \n",
      "1      1     Toño  Software Developer   M  33  72000  Project A   \n",
      "2      2  Carmiña  Software Developer   M  27  72000  Project B   \n",
      "3      3   Antony  Software Developer   M  24  72000  Project A   \n",
      "4      4   Martha     Front Developer   F  30  74000  Project A   \n",
      "\n",
      "                email  \n",
      "0  Maritza@domain.com  \n",
      "1     Deividomain.com  \n",
      "2  Manuela@domain.com  \n",
      "3   Antony@domain.com  \n",
      "4   Martha@domain.com  \n"
     ]
    }
   ],
   "source": [
    "print(dataWork.checkMaxLength('job', 12).head())"
   ]
  },
  {
   "cell_type": "markdown",
   "metadata": {},
   "source": [
    "# Rule for list\n",
    "This rule checks data against a reference list."
   ]
  },
  {
   "cell_type": "code",
   "execution_count": 6,
   "metadata": {},
   "outputs": [
    {
     "data": {
      "text/html": [
       "<div>\n",
       "<style scoped>\n",
       "    .dataframe tbody tr th:only-of-type {\n",
       "        vertical-align: middle;\n",
       "    }\n",
       "\n",
       "    .dataframe tbody tr th {\n",
       "        vertical-align: top;\n",
       "    }\n",
       "\n",
       "    .dataframe thead th {\n",
       "        text-align: right;\n",
       "    }\n",
       "</style>\n",
       "<table border=\"1\" class=\"dataframe\">\n",
       "  <thead>\n",
       "    <tr style=\"text-align: right;\">\n",
       "      <th></th>\n",
       "      <th>job</th>\n",
       "    </tr>\n",
       "  </thead>\n",
       "  <tbody>\n",
       "    <tr>\n",
       "      <th>0</th>\n",
       "      <td>Front Developer</td>\n",
       "    </tr>\n",
       "    <tr>\n",
       "      <th>1</th>\n",
       "      <td>Software Developer</td>\n",
       "    </tr>\n",
       "    <tr>\n",
       "      <th>2</th>\n",
       "      <td>Data Engineer</td>\n",
       "    </tr>\n",
       "    <tr>\n",
       "      <th>3</th>\n",
       "      <td>Manager</td>\n",
       "    </tr>\n",
       "  </tbody>\n",
       "</table>\n",
       "</div>"
      ],
      "text/plain": [
       "                  job\n",
       "0     Front Developer\n",
       "1  Software Developer\n",
       "2       Data Engineer\n",
       "3             Manager"
      ]
     },
     "execution_count": 6,
     "metadata": {},
     "output_type": "execute_result"
    }
   ],
   "source": [
    "# Reference List for rule.\n",
    "pd.read_csv('jobs.csv')"
   ]
  },
  {
   "cell_type": "code",
   "execution_count": 7,
   "metadata": {},
   "outputs": [
    {
     "name": "stdout",
     "output_type": "stream",
     "text": [
      "    name     job\n",
      "0  David     NaN\n",
      "1    Ana  Intern\n",
      "2  Johan  Intern\n"
     ]
    }
   ],
   "source": [
    "# Checking for registers not in reference list for column \"job\"\n",
    "# Nan and Intern not in reference list\n",
    "print(dataWork.checkListReference('jobs.csv', 'job', 'job')[['name','job']])"
   ]
  },
  {
   "cell_type": "markdown",
   "metadata": {},
   "source": [
    "# Rule for email\n",
    "This rule checks for email structure."
   ]
  },
  {
   "cell_type": "code",
   "execution_count": 8,
   "metadata": {},
   "outputs": [
    {
     "name": "stdout",
     "output_type": "stream",
     "text": [
      "     name               email\n",
      "0    Toño     Deividomain.com\n",
      "1   Lucia                 NaN\n",
      "2     Ana     Ana@@domain.com\n",
      "3  Andrew  Andrew@domain..com\n",
      "4  Andrea                   A\n"
     ]
    }
   ],
   "source": [
    "# Checking for bad registers in column \"email\", returning emails with wrong structure \n",
    "print(dataWork.checkEmail('email')[['name','email']].head())"
   ]
  },
  {
   "cell_type": "markdown",
   "metadata": {},
   "source": [
    "# Rule for null values\n",
    "This rule checks for missing values."
   ]
  },
  {
   "cell_type": "code",
   "execution_count": 9,
   "metadata": {},
   "outputs": [
    {
     "name": "stdout",
     "output_type": "stream",
     "text": [
      "         name project\n",
      "0      Justin     NaN\n",
      "1      Stella     NaN\n",
      "2  Margarette     NaN\n"
     ]
    }
   ],
   "source": [
    "# Checking registers for null values in project column\n",
    "print(dataWork.checkNull('project')[['name','project']])"
   ]
  },
  {
   "cell_type": "markdown",
   "metadata": {},
   "source": [
    "# Rule for numbers\n",
    "This rule checks for number type. Non numbers will be mark as wrong"
   ]
  },
  {
   "cell_type": "code",
   "execution_count": 10,
   "metadata": {},
   "outputs": [
    {
     "name": "stdout",
     "output_type": "stream",
     "text": [
      "      name  salary\n",
      "0    Johan   97a00\n",
      "1  Joaquin  1020o0\n"
     ]
    }
   ],
   "source": [
    "# Checking registers for number types\n",
    "print(dataWork.checkNumber('salary')[['name', 'salary']])\n"
   ]
  },
  {
   "cell_type": "markdown",
   "metadata": {},
   "source": [
    "# Rule for name\n",
    "This rule checks the names. Only records with allows letters and spaces pass the rule."
   ]
  },
  {
   "cell_type": "code",
   "execution_count": 11,
   "metadata": {},
   "outputs": [
    {
     "name": "stdout",
     "output_type": "stream",
     "text": [
      "      name\n",
      "0  Ant0nio\n",
      "1    J3nny\n",
      "2    Ang3l\n",
      "3   Ne/son\n",
      "4    Juan0\n",
      "5   Pedro_\n"
     ]
    }
   ],
   "source": [
    "print(dataWork.checkName('name')[['name']])"
   ]
  },
  {
   "cell_type": "markdown",
   "metadata": {},
   "source": [
    "# Checking for Generic Pattern"
   ]
  },
  {
   "cell_type": "markdown",
   "metadata": {},
   "source": [
    "This rules checks for an specific pattern"
   ]
  },
  {
   "cell_type": "code",
   "execution_count": 12,
   "metadata": {
    "scrolled": true
   },
   "outputs": [
    {
     "name": "stdout",
     "output_type": "stream",
     "text": [
      "      name\n",
      "0     Inés\n",
      "1     Toño\n",
      "2  Carmiña\n",
      "3  Ant0nio\n",
      "4    J3nny\n",
      "5    Ang3l\n",
      "6   Ne/son\n",
      "7    Juan0\n",
      "8   Pedro_\n"
     ]
    }
   ],
   "source": [
    "print(dataWork.checkPattern('name', '^[A-Za-z]+$')[['name']])"
   ]
  },
  {
   "cell_type": "markdown",
   "metadata": {},
   "source": [
    "# Closing \n",
    "Removes and deletes all files generated during data quality process."
   ]
  },
  {
   "cell_type": "code",
   "execution_count": 13,
   "metadata": {},
   "outputs": [],
   "source": [
    "dataWork.close()"
   ]
  },
  {
   "cell_type": "code",
   "execution_count": null,
   "metadata": {},
   "outputs": [],
   "source": []
  }
 ],
 "metadata": {
  "kernelspec": {
   "display_name": "Python 3",
   "language": "python",
   "name": "python3"
  },
  "language_info": {
   "codemirror_mode": {
    "name": "ipython",
    "version": 3
   },
   "file_extension": ".py",
   "mimetype": "text/x-python",
   "name": "python",
   "nbconvert_exporter": "python",
   "pygments_lexer": "ipython3",
   "version": "3.7.3"
  }
 },
 "nbformat": 4,
 "nbformat_minor": 2
}
